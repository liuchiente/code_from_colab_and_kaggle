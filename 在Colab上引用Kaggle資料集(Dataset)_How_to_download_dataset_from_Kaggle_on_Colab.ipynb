{
  "nbformat": 4,
  "nbformat_minor": 0,
  "metadata": {
    "colab": {
      "name": "在Colab上引用Kaggle資料集(Dataset)_How to download dataset from Kaggle on Colab",
      "provenance": [],
      "collapsed_sections": [],
      "mount_file_id": "1wwTNyjvkU1wSFN-SJTuxb-clNxySLOVS",
      "authorship_tag": "ABX9TyNJdWeixS47SjmWntPL0KKt",
      "include_colab_link": true
    },
    "kernelspec": {
      "name": "python3",
      "display_name": "Python 3"
    }
  },
  "cells": [
    {
      "cell_type": "markdown",
      "metadata": {
        "id": "view-in-github",
        "colab_type": "text"
      },
      "source": [
        "<a href=\"https://colab.research.google.com/github/liuchiente/code_from_colab_and_kaggle/blob/main/%E5%9C%A8Colab%E4%B8%8A%E5%BC%95%E7%94%A8Kaggle%E8%B3%87%E6%96%99%E9%9B%86(Dataset)_How_to_download_dataset_from_Kaggle_on_Colab.ipynb\" target=\"_parent\"><img src=\"https://colab.research.google.com/assets/colab-badge.svg\" alt=\"Open In Colab\"/></a>"
      ]
    },
    {
      "cell_type": "markdown",
      "metadata": {
        "id": "_6QG0L6LUjaM"
      },
      "source": [
        "## 環境初始化\n",
        "\n",
        "\n",
        "1.   切換到工作目錄\n",
        "2.   載入會用到的工具函式\n",
        "3.   準備資料集"
      ]
    },
    {
      "cell_type": "code",
      "metadata": {
        "id": "pN-nK5vjDK9X",
        "colab": {
          "base_uri": "https://localhost:8080/"
        },
        "outputId": "f308fa94-8579-4f0d-e6df-4bb96225af3f"
      },
      "source": [
        "#掛載Google Drive\n",
        "from google.colab import drive\n",
        "drive.mount('/content/drive', force_remount=True)"
      ],
      "execution_count": null,
      "outputs": [
        {
          "output_type": "stream",
          "name": "stdout",
          "text": [
            "Mounted at /content/drive\n"
          ]
        }
      ]
    },
    {
      "cell_type": "code",
      "metadata": {
        "id": "kNbacf3TU9tu"
      },
      "source": [
        "#切換預設目錄\n",
        "SYS_DIR = \"/content/drive/My Drive/Colab Notebooks/Yololo\"\n",
        "if not os.path.isdir(SYS_DIR):\n",
        "    os.mkdir(SYS_DIR)\n",
        "os.chdir(SYS_DIR)"
      ],
      "execution_count": null,
      "outputs": []
    },
    {
      "cell_type": "code",
      "source": [
        "#確認所在目錄\n",
        "!ls"
      ],
      "metadata": {
        "id": "HVJbg281sSG9"
      },
      "execution_count": null,
      "outputs": []
    },
    {
      "cell_type": "markdown",
      "source": [
        "## 下載資料集\n",
        "### To downlad datsets\n",
        "您應該先擁有Kaggle帳號，並準備好kaggle.json，詳細做法可以參考[這裡](https://liuchien.ink.tw/%e4%b8%ad%e8%88%88%e5%a4%a7%e5%ad%b8%e8%b3%87%e5%b7%a5%e6%89%80/%e5%9c%a8colab%e4%b8%8a%e5%bc%95%e7%94%a8kaggle%e8%b3%87%e6%96%99%e9%9b%86dataset/)。\n",
        "\n"
      ],
      "metadata": {
        "id": "SD1xmSu0xkrr"
      }
    },
    {
      "cell_type": "code",
      "source": [
        "#為了能取得Kaggle資料及,需先下載Kagle套件\n",
        "! pip install -q kaggle"
      ],
      "metadata": {
        "id": "_BbIoJHWuhrk"
      },
      "execution_count": null,
      "outputs": []
    },
    {
      "cell_type": "code",
      "source": [
        "#上傳你在Kaggle上取得的認證Token\n",
        "from google.colab import files\n",
        "\n",
        "files.upload()"
      ],
      "metadata": {
        "id": "uIsqAV-sulje"
      },
      "execution_count": null,
      "outputs": []
    },
    {
      "cell_type": "code",
      "source": [
        " # 在根目錄建立Kaggle資料夾\n",
        " ! mkdir ~/.kaggle"
      ],
      "metadata": {
        "id": "p5m2XOjXPIZE"
      },
      "execution_count": null,
      "outputs": []
    },
    {
      "cell_type": "code",
      "source": [
        " # 複製認證Token到資料夾中,後續呼叫Kaggle套件時會經過此認證\n",
        "! cp kaggle.json ~/.kaggle/\n",
        "! chmod 600 ~/.kaggle/kaggle.json"
      ],
      "metadata": {
        "id": "gLf6sueTPOri",
        "colab": {
          "base_uri": "https://localhost:8080/"
        },
        "outputId": "b89c4cd1-050a-4167-bf41-92061ab1c790"
      },
      "execution_count": null,
      "outputs": [
        {
          "output_type": "stream",
          "name": "stdout",
          "text": [
            "cp: cannot create regular file '/root/.kaggle/': Not a directory\n"
          ]
        }
      ]
    },
    {
      "cell_type": "code",
      "source": [
        "# 查看這個Kaggle帳號所有可見的資料集\n",
        "!kaggle datasets list"
      ],
      "metadata": {
        "id": "2-Rr1ofhQ-Xk"
      },
      "execution_count": null,
      "outputs": []
    },
    {
      "cell_type": "code",
      "source": [
        "# 尋找特定的資料集\n",
        "!kaggle datasets list -s dogs"
      ],
      "metadata": {
        "id": "8R0y4N9DRK0c"
      },
      "execution_count": null,
      "outputs": []
    },
    {
      "cell_type": "code",
      "source": [
        "# 下載資料集\n",
        "! kaggle datasets download 'sriramr/fruits-fresh-and-rotten-for-classification'"
      ],
      "metadata": {
        "colab": {
          "base_uri": "https://localhost:8080/"
        },
        "id": "txvjdG1YPiS-",
        "outputId": "819bfdf0-f576-49d8-8555-a804ce67efdf"
      },
      "execution_count": null,
      "outputs": [
        {
          "output_type": "stream",
          "name": "stdout",
          "text": [
            "Downloading fruits-fresh-and-rotten-for-classification.zip to /content/drive/My Drive/Colab Notebooks/Yololo\n",
            "100% 3.58G/3.58G [00:56<00:00, 112MB/s]\n",
            "100% 3.58G/3.58G [00:57<00:00, 67.2MB/s]\n"
          ]
        }
      ]
    },
    {
      "cell_type": "code",
      "source": [
        "# 或是可以下載特定競賽的資料集\n",
        "! kaggle competitions download -c 'name-of-competition'"
      ],
      "metadata": {
        "id": "7FnVN_oJRgVV"
      },
      "execution_count": null,
      "outputs": []
    },
    {
      "cell_type": "code",
      "source": [
        "# 解壓縮資料集\n",
        "!unzip fruits-fresh-and-rotten-for-classification.zip"
      ],
      "metadata": {
        "id": "WbyZkDz7P0jX"
      },
      "execution_count": null,
      "outputs": []
    }
  ]
}