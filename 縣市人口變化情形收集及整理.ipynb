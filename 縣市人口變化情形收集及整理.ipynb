{
  "nbformat": 4,
  "nbformat_minor": 0,
  "metadata": {
    "colab": {
      "name": "縣市人口變化情形收集及整理",
      "provenance": [],
      "collapsed_sections": [],
      "authorship_tag": "ABX9TyPBKkmaQomYP0YnbTjpxGGv",
      "include_colab_link": true
    },
    "kernelspec": {
      "name": "python3",
      "display_name": "Python 3"
    },
    "language_info": {
      "name": "python"
    }
  },
  "cells": [
    {
      "cell_type": "markdown",
      "metadata": {
        "id": "view-in-github",
        "colab_type": "text"
      },
      "source": [
        "<a href=\"https://colab.research.google.com/github/liuchiente/code_from_colab_and_kaggle/blob/main/%E7%B8%A3%E5%B8%82%E4%BA%BA%E5%8F%A3%E8%AE%8A%E5%8C%96%E6%83%85%E5%BD%A2%E6%94%B6%E9%9B%86%E5%8F%8A%E6%95%B4%E7%90%86.ipynb\" target=\"_parent\"><img src=\"https://colab.research.google.com/assets/colab-badge.svg\" alt=\"Open In Colab\"/></a>"
      ]
    },
    {
      "cell_type": "markdown",
      "metadata": {
        "id": "QKiX-V-5M5BI"
      },
      "source": [
        "# 準備環境\n",
        "1.   掛載硬碟\n",
        "2.   安裝套件\n",
        "3.   引入函式庫\n",
        "\n",
        "\n",
        "\n",
        "\n"
      ]
    },
    {
      "cell_type": "code",
      "metadata": {
        "colab": {
          "base_uri": "https://localhost:8080/"
        },
        "id": "GNeza40kMt7X",
        "outputId": "a8759aa1-9faa-45b3-dd4b-c2840466fac3"
      },
      "source": [
        "#掛載硬碟\n",
        "from google.colab import drive\n",
        "drive.mount('/content/drive', force_remount=True)"
      ],
      "execution_count": null,
      "outputs": [
        {
          "output_type": "stream",
          "name": "stdout",
          "text": [
            "Mounted at /content/drive\n"
          ]
        }
      ]
    },
    {
      "cell_type": "code",
      "metadata": {
        "id": "Da_NJ4YuNRS8"
      },
      "source": [
        "#切換工作資料夾\n",
        "import os\n",
        "if os.path.isdir('/content/drive/My Drive/Colab Notebooks//AnalysisOfPopulation/') is False:\n",
        "  os.mkdir('/content/drive/My Drive/Colab Notebooks//AnalysisOfPopulation/')\n",
        "os.chdir('/content/drive/My Drive/Colab Notebooks/AnalysisOfPopulation/')"
      ],
      "execution_count": null,
      "outputs": []
    },
    {
      "cell_type": "code",
      "source": [
        "#安裝額外套件,在讀取副檔名為xls的excel檔案會用到,安裝完需要重新啟動環境\n",
        "!pip install xlrd==1.2.0"
      ],
      "metadata": {
        "colab": {
          "base_uri": "https://localhost:8080/",
          "height": 256
        },
        "id": "mPJyMRAwmOJx",
        "outputId": "7aab85c5-5221-4eb5-ff23-5f6428674130"
      },
      "execution_count": null,
      "outputs": [
        {
          "output_type": "stream",
          "name": "stdout",
          "text": [
            "Collecting xlrd==1.2.0\n",
            "  Downloading xlrd-1.2.0-py2.py3-none-any.whl (103 kB)\n",
            "\u001b[?25l\r\u001b[K     |███▏                            | 10 kB 16.6 MB/s eta 0:00:01\r\u001b[K     |██████▍                         | 20 kB 20.5 MB/s eta 0:00:01\r\u001b[K     |█████████▌                      | 30 kB 18.6 MB/s eta 0:00:01\r\u001b[K     |████████████▊                   | 40 kB 13.7 MB/s eta 0:00:01\r\u001b[K     |███████████████▉                | 51 kB 12.0 MB/s eta 0:00:01\r\u001b[K     |███████████████████             | 61 kB 13.6 MB/s eta 0:00:01\r\u001b[K     |██████████████████████▏         | 71 kB 14.9 MB/s eta 0:00:01\r\u001b[K     |█████████████████████████▍      | 81 kB 14.0 MB/s eta 0:00:01\r\u001b[K     |████████████████████████████▋   | 92 kB 15.0 MB/s eta 0:00:01\r\u001b[K     |███████████████████████████████▊| 102 kB 16.1 MB/s eta 0:00:01\r\u001b[K     |████████████████████████████████| 103 kB 16.1 MB/s \n",
            "\u001b[?25hInstalling collected packages: xlrd\n",
            "  Attempting uninstall: xlrd\n",
            "    Found existing installation: xlrd 1.1.0\n",
            "    Uninstalling xlrd-1.1.0:\n",
            "      Successfully uninstalled xlrd-1.1.0\n",
            "Successfully installed xlrd-1.2.0\n"
          ]
        },
        {
          "output_type": "display_data",
          "data": {
            "application/vnd.colab-display-data+json": {
              "pip_warning": {
                "packages": [
                  "xlrd"
                ]
              }
            }
          },
          "metadata": {}
        }
      ]
    },
    {
      "cell_type": "code",
      "source": [
        "# Colab 進行matplotlib繪圖時顯示繁體中文\n",
        "# 下載台北思源黑體並命名taipei_sans_tc_beta.ttf，移至指定路徑\n",
        "!wget -O TaipeiSansTCBeta-Regular.ttf https://drive.google.com/uc?id=1eGAsTN1HBpJAkeVM57_C7ccp7hbgSz3_&export=download"
      ],
      "metadata": {
        "id": "DLb1Y4b2BH8q"
      },
      "execution_count": null,
      "outputs": []
    },
    {
      "cell_type": "code",
      "source": [
        "#引入函式庫\n",
        "import datetime\n",
        "import requests\n",
        "\n",
        "import numpy as np\n",
        "import pandas as pd\n",
        "from numpy.ma.core import flatten_mask\n",
        "\n",
        "import matplotlib as mpl\n",
        "import matplotlib.pyplot as plt \n",
        "from matplotlib.font_manager import fontManager\n",
        "import matplotlib.dates as dates\n",
        "import matplotlib.ticker as ticker"
      ],
      "metadata": {
        "id": "fcSwhGcVelbC"
      },
      "execution_count": null,
      "outputs": []
    },
    {
      "cell_type": "markdown",
      "source": [
        "# 資料處理\n",
        "1.   下載資料\n",
        "2.   資料清洗\n",
        "\n"
      ],
      "metadata": {
        "id": "rYTttiEoriLu"
      }
    },
    {
      "cell_type": "code",
      "source": [
        "#下載縣市政府公開資料,內包含人口遷出、遷入等資訊\n",
        "start_year=2014\n",
        "end_year=2022\n",
        "start_month=1\n",
        "end_month=2\n",
        "\n",
        "ym_start= 12*start_year + start_month - 1\n",
        "ym_end= 12*end_year + end_month - 1\n",
        "for ym in range( ym_start, ym_end ):\n",
        "    y, m = divmod( ym, 12 )\n",
        "    yc=(str)(y-1911)\n",
        "    mc=(str)(m+1).zfill(2)\n",
        "    fname=yc+mc+'01.xlsx'\n",
        "    url = 'https://mlhr.miaoli.gov.tw/xls/'+yc+'/'+fname\n",
        "\n",
        "    r = requests.get(url, allow_redirects=True)\n",
        "    if r.status_code == 200:\n",
        "      open(fname, 'wb').write(r.content)\n",
        "    else:\n",
        "      fname=yc+mc+'01.xls'\n",
        "      url = 'https://mlhr.miaoli.gov.tw/xls/'+yc+'/'+fname\n",
        "       r = requests.get(url, allow_redirects=True)\n",
        "       open(fname, 'wb').write(r.content)\n"
      ],
      "metadata": {
        "id": "Gj5NQlQgyb6o"
      },
      "execution_count": null,
      "outputs": []
    },
    {
      "cell_type": "code",
      "source": [
        "#資料清洗,因為公開資料有制式格式,為了方便處理,轉換成方便使用格式\n",
        "start_year=2016\n",
        "end_year=2022\n",
        "start_month=12\n",
        "end_month=3\n",
        "\n",
        "ym_start= 12*start_year + start_month - 1\n",
        "ym_end= 12*end_year + end_month - 1\n",
        "\n",
        "#資料轉換\n",
        "for ym in range( ym_start, ym_end ):\n",
        "    y, m = divmod( ym, 12 )\n",
        "    yc=(str)(y-1911)\n",
        "    mc=(str)(m+1).zfill(2)\n",
        "    fname=yc+mc+'01.xlsx'\n",
        "    #讀入資料\n",
        "    print(fname)\n",
        "    dfn = pd.read_excel(fname)\n",
        "    #找出可用的Header\n",
        "    dfn_h=dfn[4:5].values.tolist()\n",
        "    #重新整理資料\n",
        "    dfn_c=dfn[4:-1].fillna('-')\n",
        "    dfn_c.columns=dfn_h\n",
        "    #存成csv,不紀錄索引\n",
        "    dfn_c.to_csv(yc+mc+'01.csv',index=0)"
      ],
      "metadata": {
        "id": "-MKcpyv1lTf8"
      },
      "execution_count": null,
      "outputs": []
    },
    {
      "cell_type": "markdown",
      "source": [
        "# 資料分析\n",
        "1.   指定篩選條件,進行篩選\n",
        "2.   繪出統計結果\n",
        "\n"
      ],
      "metadata": {
        "id": "1Tzx9eY_rzcP"
      }
    },
    {
      "cell_type": "code",
      "source": [
        "#指定篩選條件\n",
        "target='平安里'\n",
        "start='201801'\n",
        "#指定統計起訖,年、月\n",
        "start_year=2014\n",
        "end_year=2022\n",
        "start_month=2\n",
        "end_month=3"
      ],
      "metadata": {
        "id": "hQHDZdNUkChJ"
      },
      "execution_count": null,
      "outputs": []
    },
    {
      "cell_type": "code",
      "source": [
        "#統計歷年資料\n",
        "ym_start= 12*start_year + start_month - 1\n",
        "ym_end= 12*end_year + end_month - 1\n",
        "data_list=[]\n",
        "for ym in range( ym_start, ym_end ):\n",
        "    y, m = divmod( ym, 12 )\n",
        "    yc=(str)(y-1911)\n",
        "    yo=(str)(y)\n",
        "    mc=(str)(m+1).zfill(2)\n",
        "    fname=yc+mc+'01.csv'\n",
        "    dfc=pd.read_csv(fname)\n",
        "    f1=dfc['區域別'].str.match(target) & dfc['性別'].str.match('計')\n",
        "    f2=dfc['區域別'].str.match(target) & dfc['性別'].str.match('男')\n",
        "    f3=dfc['區域別'].str.match(target) & dfc['性別'].str.match('女')\n",
        "\n",
        "    time=yc+mc\n",
        "    time_c=yo+mc\n",
        "\n",
        "    male_in=dfc[f2]['遷出人數_合計'].fillna(0).values[0]\n",
        "    male_out=dfc[f2]['遷出人數_合計'].fillna(0).values[0]\n",
        "    female_in=dfc[f3]['遷出人數_合計'].fillna(0).values[0]\n",
        "    female_out=dfc[f3]['遷出人數_合計'].fillna(0).values[0]\n",
        "    total_in=dfc[f1]['遷入人數_合計'].fillna(0).values[0]\n",
        "    total_out=dfc[f1]['遷出人數_合計'].fillna(0).values[0]\n",
        "    data_list.append((time,time_c,male_in,female_in,total_in,male_out,female_out,total_out))\n",
        "\n",
        "dna=pd.DataFrame(data_list,columns = ['月份' ,'月份(西元)' , '遷入人數_男', '遷入人數_女', '遷入人數_合計', '遷出人數_男', '遷出人數_女', '遷出人數_合計'])"
      ],
      "metadata": {
        "id": "nuKRG2S_zT_T"
      },
      "execution_count": null,
      "outputs": []
    },
    {
      "cell_type": "code",
      "metadata": {
        "id": "WeMu9p96Qgmg"
      },
      "source": [
        "#設定顯示所有欄位\n",
        "pd.set_option(\"display.max_columns\", None)"
      ],
      "execution_count": null,
      "outputs": []
    },
    {
      "cell_type": "code",
      "source": [
        "#可以看一下統計資料是不是如預期\n",
        "dna.head(100)"
      ],
      "metadata": {
        "colab": {
          "base_uri": "https://localhost:8080/",
          "height": 424
        },
        "id": "CpmwctK5iWzH",
        "outputId": "e78d09af-6593-466f-e93e-c8e3f844d41f"
      },
      "execution_count": null,
      "outputs": [
        {
          "output_type": "execute_result",
          "data": {
            "text/plain": [
              "       月份  月份(西元) 遷入人數_男 遷入人數_女 遷入人數_合計 遷出人數_男 遷出人數_女 遷出人數_合計\n",
              "0   10302  201402     36     33      57     36     33      69\n",
              "1   10303  201403     36     45      74     36     45      81\n",
              "2   10304  201404     45     55      93     45     55     100\n",
              "3   10305  201405     51     59      91     51     59     110\n",
              "4   10306  201406     37     62      93     37     62      99\n",
              "..    ...     ...    ...    ...     ...    ...    ...     ...\n",
              "92  11010  202110     39     41      62     39     41      80\n",
              "93  11011  202111     25     48      41     25     48      73\n",
              "94  11012  202112     47     44      53     47     44      91\n",
              "95  11101  202201     44     50      55     44     50      94\n",
              "96  11102  202202     37     33      51     37     33      70\n",
              "\n",
              "[97 rows x 8 columns]"
            ],
            "text/html": [
              "\n",
              "  <div id=\"df-c2da6f8d-86b1-4305-9441-06aeb877dc61\">\n",
              "    <div class=\"colab-df-container\">\n",
              "      <div>\n",
              "<style scoped>\n",
              "    .dataframe tbody tr th:only-of-type {\n",
              "        vertical-align: middle;\n",
              "    }\n",
              "\n",
              "    .dataframe tbody tr th {\n",
              "        vertical-align: top;\n",
              "    }\n",
              "\n",
              "    .dataframe thead th {\n",
              "        text-align: right;\n",
              "    }\n",
              "</style>\n",
              "<table border=\"1\" class=\"dataframe\">\n",
              "  <thead>\n",
              "    <tr style=\"text-align: right;\">\n",
              "      <th></th>\n",
              "      <th>月份</th>\n",
              "      <th>月份(西元)</th>\n",
              "      <th>遷入人數_男</th>\n",
              "      <th>遷入人數_女</th>\n",
              "      <th>遷入人數_合計</th>\n",
              "      <th>遷出人數_男</th>\n",
              "      <th>遷出人數_女</th>\n",
              "      <th>遷出人數_合計</th>\n",
              "    </tr>\n",
              "  </thead>\n",
              "  <tbody>\n",
              "    <tr>\n",
              "      <th>0</th>\n",
              "      <td>10302</td>\n",
              "      <td>201402</td>\n",
              "      <td>36</td>\n",
              "      <td>33</td>\n",
              "      <td>57</td>\n",
              "      <td>36</td>\n",
              "      <td>33</td>\n",
              "      <td>69</td>\n",
              "    </tr>\n",
              "    <tr>\n",
              "      <th>1</th>\n",
              "      <td>10303</td>\n",
              "      <td>201403</td>\n",
              "      <td>36</td>\n",
              "      <td>45</td>\n",
              "      <td>74</td>\n",
              "      <td>36</td>\n",
              "      <td>45</td>\n",
              "      <td>81</td>\n",
              "    </tr>\n",
              "    <tr>\n",
              "      <th>2</th>\n",
              "      <td>10304</td>\n",
              "      <td>201404</td>\n",
              "      <td>45</td>\n",
              "      <td>55</td>\n",
              "      <td>93</td>\n",
              "      <td>45</td>\n",
              "      <td>55</td>\n",
              "      <td>100</td>\n",
              "    </tr>\n",
              "    <tr>\n",
              "      <th>3</th>\n",
              "      <td>10305</td>\n",
              "      <td>201405</td>\n",
              "      <td>51</td>\n",
              "      <td>59</td>\n",
              "      <td>91</td>\n",
              "      <td>51</td>\n",
              "      <td>59</td>\n",
              "      <td>110</td>\n",
              "    </tr>\n",
              "    <tr>\n",
              "      <th>4</th>\n",
              "      <td>10306</td>\n",
              "      <td>201406</td>\n",
              "      <td>37</td>\n",
              "      <td>62</td>\n",
              "      <td>93</td>\n",
              "      <td>37</td>\n",
              "      <td>62</td>\n",
              "      <td>99</td>\n",
              "    </tr>\n",
              "    <tr>\n",
              "      <th>...</th>\n",
              "      <td>...</td>\n",
              "      <td>...</td>\n",
              "      <td>...</td>\n",
              "      <td>...</td>\n",
              "      <td>...</td>\n",
              "      <td>...</td>\n",
              "      <td>...</td>\n",
              "      <td>...</td>\n",
              "    </tr>\n",
              "    <tr>\n",
              "      <th>92</th>\n",
              "      <td>11010</td>\n",
              "      <td>202110</td>\n",
              "      <td>39</td>\n",
              "      <td>41</td>\n",
              "      <td>62</td>\n",
              "      <td>39</td>\n",
              "      <td>41</td>\n",
              "      <td>80</td>\n",
              "    </tr>\n",
              "    <tr>\n",
              "      <th>93</th>\n",
              "      <td>11011</td>\n",
              "      <td>202111</td>\n",
              "      <td>25</td>\n",
              "      <td>48</td>\n",
              "      <td>41</td>\n",
              "      <td>25</td>\n",
              "      <td>48</td>\n",
              "      <td>73</td>\n",
              "    </tr>\n",
              "    <tr>\n",
              "      <th>94</th>\n",
              "      <td>11012</td>\n",
              "      <td>202112</td>\n",
              "      <td>47</td>\n",
              "      <td>44</td>\n",
              "      <td>53</td>\n",
              "      <td>47</td>\n",
              "      <td>44</td>\n",
              "      <td>91</td>\n",
              "    </tr>\n",
              "    <tr>\n",
              "      <th>95</th>\n",
              "      <td>11101</td>\n",
              "      <td>202201</td>\n",
              "      <td>44</td>\n",
              "      <td>50</td>\n",
              "      <td>55</td>\n",
              "      <td>44</td>\n",
              "      <td>50</td>\n",
              "      <td>94</td>\n",
              "    </tr>\n",
              "    <tr>\n",
              "      <th>96</th>\n",
              "      <td>11102</td>\n",
              "      <td>202202</td>\n",
              "      <td>37</td>\n",
              "      <td>33</td>\n",
              "      <td>51</td>\n",
              "      <td>37</td>\n",
              "      <td>33</td>\n",
              "      <td>70</td>\n",
              "    </tr>\n",
              "  </tbody>\n",
              "</table>\n",
              "<p>97 rows × 8 columns</p>\n",
              "</div>\n",
              "      <button class=\"colab-df-convert\" onclick=\"convertToInteractive('df-c2da6f8d-86b1-4305-9441-06aeb877dc61')\"\n",
              "              title=\"Convert this dataframe to an interactive table.\"\n",
              "              style=\"display:none;\">\n",
              "        \n",
              "  <svg xmlns=\"http://www.w3.org/2000/svg\" height=\"24px\"viewBox=\"0 0 24 24\"\n",
              "       width=\"24px\">\n",
              "    <path d=\"M0 0h24v24H0V0z\" fill=\"none\"/>\n",
              "    <path d=\"M18.56 5.44l.94 2.06.94-2.06 2.06-.94-2.06-.94-.94-2.06-.94 2.06-2.06.94zm-11 1L8.5 8.5l.94-2.06 2.06-.94-2.06-.94L8.5 2.5l-.94 2.06-2.06.94zm10 10l.94 2.06.94-2.06 2.06-.94-2.06-.94-.94-2.06-.94 2.06-2.06.94z\"/><path d=\"M17.41 7.96l-1.37-1.37c-.4-.4-.92-.59-1.43-.59-.52 0-1.04.2-1.43.59L10.3 9.45l-7.72 7.72c-.78.78-.78 2.05 0 2.83L4 21.41c.39.39.9.59 1.41.59.51 0 1.02-.2 1.41-.59l7.78-7.78 2.81-2.81c.8-.78.8-2.07 0-2.86zM5.41 20L4 18.59l7.72-7.72 1.47 1.35L5.41 20z\"/>\n",
              "  </svg>\n",
              "      </button>\n",
              "      \n",
              "  <style>\n",
              "    .colab-df-container {\n",
              "      display:flex;\n",
              "      flex-wrap:wrap;\n",
              "      gap: 12px;\n",
              "    }\n",
              "\n",
              "    .colab-df-convert {\n",
              "      background-color: #E8F0FE;\n",
              "      border: none;\n",
              "      border-radius: 50%;\n",
              "      cursor: pointer;\n",
              "      display: none;\n",
              "      fill: #1967D2;\n",
              "      height: 32px;\n",
              "      padding: 0 0 0 0;\n",
              "      width: 32px;\n",
              "    }\n",
              "\n",
              "    .colab-df-convert:hover {\n",
              "      background-color: #E2EBFA;\n",
              "      box-shadow: 0px 1px 2px rgba(60, 64, 67, 0.3), 0px 1px 3px 1px rgba(60, 64, 67, 0.15);\n",
              "      fill: #174EA6;\n",
              "    }\n",
              "\n",
              "    [theme=dark] .colab-df-convert {\n",
              "      background-color: #3B4455;\n",
              "      fill: #D2E3FC;\n",
              "    }\n",
              "\n",
              "    [theme=dark] .colab-df-convert:hover {\n",
              "      background-color: #434B5C;\n",
              "      box-shadow: 0px 1px 3px 1px rgba(0, 0, 0, 0.15);\n",
              "      filter: drop-shadow(0px 1px 2px rgba(0, 0, 0, 0.3));\n",
              "      fill: #FFFFFF;\n",
              "    }\n",
              "  </style>\n",
              "\n",
              "      <script>\n",
              "        const buttonEl =\n",
              "          document.querySelector('#df-c2da6f8d-86b1-4305-9441-06aeb877dc61 button.colab-df-convert');\n",
              "        buttonEl.style.display =\n",
              "          google.colab.kernel.accessAllowed ? 'block' : 'none';\n",
              "\n",
              "        async function convertToInteractive(key) {\n",
              "          const element = document.querySelector('#df-c2da6f8d-86b1-4305-9441-06aeb877dc61');\n",
              "          const dataTable =\n",
              "            await google.colab.kernel.invokeFunction('convertToInteractive',\n",
              "                                                     [key], {});\n",
              "          if (!dataTable) return;\n",
              "\n",
              "          const docLinkHtml = 'Like what you see? Visit the ' +\n",
              "            '<a target=\"_blank\" href=https://colab.research.google.com/notebooks/data_table.ipynb>data table notebook</a>'\n",
              "            + ' to learn more about interactive tables.';\n",
              "          element.innerHTML = '';\n",
              "          dataTable['output_type'] = 'display_data';\n",
              "          await google.colab.output.renderOutput(dataTable, element);\n",
              "          const docLink = document.createElement('div');\n",
              "          docLink.innerHTML = docLinkHtml;\n",
              "          element.appendChild(docLink);\n",
              "        }\n",
              "      </script>\n",
              "    </div>\n",
              "  </div>\n",
              "  "
            ]
          },
          "metadata": {},
          "execution_count": 192
        }
      ]
    },
    {
      "cell_type": "code",
      "source": [
        "#繪出統計結果\n",
        "#設定字型,可以避免matplot無法顯示中文\n",
        "fontManager.addfont('TaipeiSansTCBeta-Regular.ttf')\n",
        "mpl.rc('font', family='Taipei Sans TC Beta')"
      ],
      "metadata": {
        "id": "DbXIWiLtqObz"
      },
      "execution_count": null,
      "outputs": []
    },
    {
      "cell_type": "code",
      "source": [
        "#折線圖\n",
        "dnp=dna\n",
        "plt.figure(figsize=(35,10))\n",
        "plt.title(target+\"人口變化\")\n",
        "plt.plot(dnp[f1]['月份(西元)'],dnp[f1]['遷入人數_合計'].apply(float),label=\"遷入人數_合計\",linewidth=3)\n",
        "plt.plot(dnp[f1]['月份(西元)'],dnp[f1]['遷出人數_合計'].apply(float),label=\"遷出人數_合計\",linewidth=3,linestyle='dotted')\n",
        "plt.xlabel(\"月份(西元)\")\n",
        "plt.ylabel(\"人數\")\n",
        "plt.grid(True)\n",
        "plt.legend(loc = 0, prop={'size': \"x-large\"})\n",
        "plt.xticks(rotation=45)\n",
        "\n",
        "#設定統計區間\n",
        "axes = plt.gca()\n",
        "axes.xaxis.set_major_locator(ticker.MultipleLocator(5))\n",
        "\n",
        "plt.show()"
      ],
      "metadata": {
        "id": "mhgeTTVtsQOg"
      },
      "execution_count": null,
      "outputs": []
    },
    {
      "cell_type": "code",
      "source": [
        "#長條圖\n",
        "dnp=dna.head(100)\n",
        "f1=dnp['月份(西元)']>=start\n",
        "plt.figure(figsize=(35,10))\n",
        "plt.title(target+\"人口變化\")\n",
        "plt.bar(dnp[f1]['月份(西元)'],dnp[f1]['遷入人數_合計'].apply(float),label=\"遷入人數_合計\")\n",
        "plt.bar(dnp[f1]['月份(西元)'],dnp[f1]['遷出人數_合計'].apply(float),label=\"遷出人數_合計\")\n",
        "\n",
        "plt.xlabel(\"月份\")\n",
        "plt.ylabel(\"人數\")\n",
        "plt.grid(True)\n",
        "plt.legend(loc = 0, prop={'size': \"x-large\"})\n",
        "plt.xticks(rotation=45)\n",
        "\n",
        "axes = plt.gca()\n",
        "axes.xaxis.set_major_locator(ticker.MultipleLocator(5))\n",
        "\n",
        "plt.show()"
      ],
      "metadata": {
        "id": "jZa2zMw6sOl3"
      },
      "execution_count": null,
      "outputs": []
    }
  ]
}